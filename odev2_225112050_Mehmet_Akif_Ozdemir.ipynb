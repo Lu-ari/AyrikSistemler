{
  "nbformat": 4,
  "nbformat_minor": 0,
  "metadata": {
    "colab": {
      "provenance": [],
      "authorship_tag": "ABX9TyMiucJ/jtoj36Fm2zg76BiH",
      "include_colab_link": true
    },
    "kernelspec": {
      "name": "python3",
      "display_name": "Python 3"
    },
    "language_info": {
      "name": "python"
    }
  },
  "cells": [
    {
      "cell_type": "markdown",
      "metadata": {
        "id": "view-in-github",
        "colab_type": "text"
      },
      "source": [
        "<a href=\"https://colab.research.google.com/github/Lu-ari/AyrikSistemler/blob/main/odev2_225112050_Mehmet_Akif_Ozdemir.ipynb\" target=\"_parent\"><img src=\"https://colab.research.google.com/assets/colab-badge.svg\" alt=\"Open In Colab\"/></a>"
      ]
    },
    {
      "cell_type": "markdown",
      "source": [],
      "metadata": {
        "id": "Mn7qh8Ii5LpA"
      }
    },
    {
      "cell_type": "markdown",
      "source": [
        "Soru -1- \n",
        "\n",
        "Bir öğretmen, yapacağı final sınavını anlattığı 10 konudan rastgele 2 sini seçerek hazırlayacağını sınıfına söylemiştir. Bu sınıftaki öğrencilerden olmadığından biri olan Figen yeterli zamanı bu 10 konudan 7 sine çalışmıştır. Figen sınava girmeden önce arkadaşlarına en büyük korkusunun sınavdaki tüm sorularının çalışmadığı yerlerden gelmesi olduğunu söylemiştir. Buna göre Figen'in korktuğunun başına gelmesi olasılığı kaçtır?\n",
        "\n",
        "Çözüm:\n",
        "\n",
        "Tüm durum:  c(10,2)10 konudan 2 si seçilecek\n",
        "İstenen olay: c(3,2) figenin korktuğu olay 3 konuya çalışmamış ve 2 konu sorulacak\n",
        "\n",
        "Bu durumda: c(3,2) / c (10,2) 'dir."
      ],
      "metadata": {
        "id": "svTT2jxg5Nly"
      }
    },
    {
      "cell_type": "code",
      "source": [
        "import math\n",
        "\n",
        "# Toplam konu sayısı\n",
        "n = 10\n",
        "\n",
        "# Seçilecek konu sayısı\n",
        "k = 2\n",
        "\n",
        "# Toplam kombinasyon sayısı\n",
        "toplam_komb = math.comb(n, k)\n",
        "\n",
        "# Çalışılan konu sayısı\n",
        "m = 7\n",
        "\n",
        "# Korkulan durumun olasılığı\n",
        "korku_durum = math.comb(m, 0) * math.comb(n - m, k) / toplam_komb\n",
        "\n",
        "print(\"Korkulan durum olasılığı..:\",korku_durum)"
      ],
      "metadata": {
        "colab": {
          "base_uri": "https://localhost:8080/"
        },
        "id": "xgWKb6qSJl-e",
        "outputId": "c35b0a5d-501d-42bb-cfd2-2525062818e2"
      },
      "execution_count": 24,
      "outputs": [
        {
          "output_type": "stream",
          "name": "stdout",
          "text": [
            "Korkulan durum olasılığı..: 0.06666666666666667\n"
          ]
        }
      ]
    },
    {
      "cell_type": "markdown",
      "source": [
        "Soru-2-\n",
        "\n",
        "Bir spor salonunda bulunan üç top sepetinin her birinde 8 basketbol ve 4 futbol topu vardır.Bu üç sepetten rastgele alınan birer topun hepsinin aynı türden olma olasılığı kaçtır ?\n",
        "\n",
        "Çözüm:\n",
        "\n",
        "Her bir sepette 8 adet basketbol topu ve 4 adet futbol topu olduğu için, herhangi bir sepetten alınan topun basketbol veya futbol topu olma olasılığı:\n",
        "\n",
        "Basketbol topu için: 8 / (8 + 4) = 2/3\n",
        "Futbol topu için: 4 / (8 + 4) = 1/3\n",
        "\n",
        "İki topun aynı türden olma olasılığı, iki durumda olabilir: ya her ikisi de basketbol topu ya da her ikisi de futbol topudur.\n",
        "\n",
        "İki basketbol topu alınması durumu:\n",
        "(2/3) * (2/3) = 4/9\n",
        "\n",
        "İki futbol topu alınması durumu:\n",
        "(1/3) * (1/3) = 1/9\n",
        "\n",
        "Üç sepetten rastgele birer top alındığında, üç topun hepsinin aynı türden olma olasılığı, yalnızca iki durumda olabilir: ya üçü de basketbol topu ya da üçü de futbol topudur. Dolayısıyla, üç topun hepsinin aynı türden olma olasılığı şu şekilde hesaplanabilir:\n",
        "\n",
        "Üç basketbol topu alınması durumu:\n",
        "(2/3) * (2/3) * (2/3) = 8/27\n",
        "\n",
        "Üç futbol topu alınması durumu:\n",
        "(1/3) * (1/3) * (1/3) = 1/27\n",
        "\n",
        "Sonuç olarak, üç sepetten rastgele alınan birer topun hepsinin aynı türden olma olasılığı, 8/27 + 1/27 = 9/27 = 1/3\n"
      ],
      "metadata": {
        "id": "1src38HzFct4"
      }
    },
    {
      "cell_type": "code",
      "source": [
        "sepetteki_top_sayisi = 12  # her bir sepette 8 basketbol ve 4 futbol topu var\n",
        "sepetteki_basketbol_sayisi = 8\n",
        "sepetteki_futbol_sayisi = 4\n",
        "\n",
        "birinci_sepet_toplari = [\"basketbol\"] * sepetteki_basketbol_sayisi + [\"futbol\"] * sepetteki_futbol_sayisi\n",
        "ikinci_sepet_toplari = [\"basketbol\"] * sepetteki_basketbol_sayisi + [\"futbol\"] * sepetteki_futbol_sayisi\n",
        "ucuncu_sepet_toplari = [\"basketbol\"] * sepetteki_basketbol_sayisi + [\"futbol\"] * sepetteki_futbol_sayisi\n",
        "\n",
        "olasiliklar = []\n",
        "for birinci_top in birinci_sepet_toplari:\n",
        "    for ikinci_top in ikinci_sepet_toplari:\n",
        "        for ucuncu_top in ucuncu_sepet_toplari:\n",
        "            if birinci_top == ikinci_top == ucuncu_top:\n",
        "                olasiliklar.append(1)  # üç topun hepsi aynı türde\n",
        "            else:\n",
        "                olasiliklar.append(0)  # üç topun hepsi aynı türde değil\n",
        "\n",
        "toplam_olasilik = sum(olasiliklar)\n",
        "ayni_tur_olasiligi = toplam_olasilik / len(olasiliklar)\n",
        "\n",
        "print(\"Üç topun hepsinin aynı türden olma olasılığı:\", ayni_tur_olasiligi)"
      ],
      "metadata": {
        "colab": {
          "base_uri": "https://localhost:8080/"
        },
        "id": "ppE0P4k7HipM",
        "outputId": "74ee739b-ced6-400a-c498-7cf62f097cb3"
      },
      "execution_count": 25,
      "outputs": [
        {
          "output_type": "stream",
          "name": "stdout",
          "text": [
            "Üç topun hepsinin aynı türden olma olasılığı: 0.3333333333333333\n"
          ]
        }
      ]
    }
  ]
}