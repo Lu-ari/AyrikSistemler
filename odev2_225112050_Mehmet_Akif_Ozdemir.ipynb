{
  "nbformat": 4,
  "nbformat_minor": 0,
  "metadata": {
    "colab": {
      "provenance": [],
      "authorship_tag": "ABX9TyMIST3C306sJZ0+/Qthv9Xg",
      "include_colab_link": true
    },
    "kernelspec": {
      "name": "python3",
      "display_name": "Python 3"
    },
    "language_info": {
      "name": "python"
    }
  },
  "cells": [
    {
      "cell_type": "markdown",
      "metadata": {
        "id": "view-in-github",
        "colab_type": "text"
      },
      "source": [
        "<a href=\"https://colab.research.google.com/github/Lu-ari/AyrikSistemler/blob/main/odev2_225112050_Mehmet_Akif_Ozdemir.ipynb\" target=\"_parent\"><img src=\"https://colab.research.google.com/assets/colab-badge.svg\" alt=\"Open In Colab\"/></a>"
      ]
    },
    {
      "cell_type": "markdown",
      "source": [],
      "metadata": {
        "id": "Mn7qh8Ii5LpA"
      }
    },
    {
      "cell_type": "markdown",
      "source": [
        "Soru -1- \n",
        "\n",
        "![image.png](data:image/png;base64,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)\n",
        "\n",
        "\n",
        "Bir mağzadan belirli müktarın üzerinde alışveriş yapan müşteriler,4 eş parçaya ayrılmış birinci çarkı iki defa çevirmektedir.Bu ikiçevirişte gelen iki sayının toplamı 6 yada 6 dan büyükse eş parçaya ayrılmış ikinci çarkı çevirerek çıkan hediyeyi almaktadırlar.\n",
        "\n",
        "Buna göre 2.çarkı çevirmeyi hakeden müşterinin çamaşır makinası kazanma olasılığı nedir ?\n",
        "\n",
        "Çözüm :\n",
        "\n",
        "Müşterinin ikinci çarkı çevirmesi için birinci çarkta iki defa çevirdiği için toplamda iki sayı seçmesi gerekiyor. Her bir eş parçanın içinde 1, 2, 3 ve 4 rakamları olduğundan, her bir sayı seçildiğinde toplam 2 ila 8 arasında bir değer alır.\n",
        "\n",
        "6'dan büyük olan toplamların olasılığını hesaplayalım:\n",
        "\n",
        "2 ve 5: 1/4 * 2/4 = 1/8\n",
        "\n",
        "3 ve 4: 2/4 * 1/4 = 1/8\n",
        "\n",
        "4 ve 3: 2/4 * 1/4 = 1/8\n",
        "\n",
        "5 ve 2: 1/4 * 2/4 = 1/8\n",
        "\n",
        "6 ve 1: 1/4 * 1/4 = 1/16\n",
        "\n",
        "7 ve 0: 1/4 * 1/4 = 1/16\n",
        "\n",
        "8 ve 0: 1/4 * 1/4 = 1/16\n",
        "\n",
        "Toplam olasılık, müşterinin ikinci çarkı çevirme olasılığıdır:\n",
        "\n",
        "1/8 + 1/8 + 1/8 + 1/8 + 1/16 + 1/16 + 1/16 = 7/16\n",
        "\n",
        "Yani müşterinin çamaşır makinesi kazanma olasılığı 7/16'dır."
      ],
      "metadata": {
        "id": "svTT2jxg5Nly"
      }
    },
    {
      "cell_type": "code",
      "source": [
        "import random\n",
        "\n",
        "# Birinci çarkın her bir eş parçasında yazan rakamlar\n",
        "parcalar = [[1], [2], [3], [4]]\n",
        "\n",
        "# İkinci çarkta yazan hediyeler\n",
        "hediyeler = [\"ütü\", \"kahve makinesi\", \"ütü\", \"tost makinesi\", \"ütü\", \"çamaşır makinesi\"]\n",
        "\n",
        "# İki defa çevirerek gelen sayıların toplamını hesaplayan fonksiyon\n",
        "def toplam():\n",
        "    return random.choice(parcalar)[0] + random.choice(parcalar)[0]\n",
        "\n",
        "# Müşterinin ikinci çarkı çevirip çevirmediğini kontrol eden fonksiyon\n",
        "def ikinci_cark():\n",
        "    return toplam() >= 6\n",
        "\n",
        "# 100000 kez simülasyon yaparak çamaşır makinesi kazanma olasılığını hesapla\n",
        "num_simulasyonlar = 100000\n",
        "num_ikinci_cark = 0\n",
        "\n",
        "for i in range(num_simulasyonlar):\n",
        "    if ikinci_cark():\n",
        "        num_ikinci_cark += 1\n",
        "\n",
        "olasilik = num_ikinci_cark / num_simulasyonlar\n",
        "\n",
        "print(\"Çamaşır makinesi kazanma olasılığı:\", olasilik)"
      ],
      "metadata": {
        "colab": {
          "base_uri": "https://localhost:8080/"
        },
        "id": "Ojn7xF3-97iM",
        "outputId": "21bd60cd-8861-4751-f70d-5ae3457d4998"
      },
      "execution_count": null,
      "outputs": [
        {
          "output_type": "stream",
          "name": "stdout",
          "text": [
            "Çamaşır makinesi kazanma olasılığı: 0.37628\n"
          ]
        }
      ]
    },
    {
      "cell_type": "markdown",
      "source": [
        "Soru-2-\n",
        "\n",
        "A={0,1,2,3,4,5,6}\n",
        "A  kümesinden seçilen iki farklı sayının toplamının tek olma olasığı nedir ?\n",
        "\n",
        "Çözüm:\n",
        "\n",
        "A kümesinden seçilebilecek farklı 2 sayının toplamı aşağıdaki şekillerde olabilir:\n",
        "0+0, 0+1, 0+2, 0+3, 0+4, 0+5, 0+6\n",
        "\n",
        "1+0, 1+1, 1+2, 1+3, 1+4, 1+5, 1+6\n",
        "\n",
        "2+0, 2+1, 2+2, 2+3, 2+4, 2+5, 2+6\n",
        "\n",
        "3+0, 3+1, 3+2, 3+3, 3+4, 3+5, 3+6\n",
        "\n",
        "4+0, 4+1, 4+2, 4+3, 4+4, 4+5, 4+6\n",
        "\n",
        "5+0, 5+1, 5+2, 5+3, 5+4, 5+5, 5+6\n",
        "\n",
        "6+0, 6+1, 6+2, 6+3, 6+4, 6+5, 6+6\n",
        "\n",
        "Toplam 7x7=49 farklı seçenek vardır. Bu seçeneklerden toplamı tek olanların sayısı şöyledir:\n",
        "\n",
        "0+1, 0+3, 0+5\n",
        "\n",
        "1+0, 1+2, 1+4, 1+6\n",
        "\n",
        "2+1, 2+3, 2+5\n",
        "\n",
        "3+0, 3+2, 3+4, 3+6\n",
        "\n",
        "4+1, 4+3, 4+5\n",
        "\n",
        "5+0, 5+2, 5+4, 5+6\n",
        "\n",
        "6+1, 6+3, 6+5\n",
        "\n",
        "Toplam 21 tane seçenek toplamı tek olan seçeneklerdir. Dolayısıyla, A kümesinden seçilen iki farklı sayının toplamının tek olma olasılığı 21/49 = 3/7'dir."
      ],
      "metadata": {
        "id": "1src38HzFct4"
      }
    },
    {
      "cell_type": "code",
      "source": [
        "A = {0, 1, 2, 3, 4, 5, 6}\n",
        "count = 0\n",
        "total = 0\n",
        "\n",
        "for x in A:\n",
        "    for y in A:\n",
        "        if x != y:\n",
        "            total += 1\n",
        "            if (x+y) % 2 == 1:\n",
        "                count += 1\n",
        "\n",
        "print(\"İki farklı sayının toplamının tek olma olasığı: \", count/total)"
      ],
      "metadata": {
        "colab": {
          "base_uri": "https://localhost:8080/"
        },
        "id": "ppE0P4k7HipM",
        "outputId": "d7113d4b-95e3-40cd-aef9-78472864f760"
      },
      "execution_count": null,
      "outputs": [
        {
          "output_type": "stream",
          "name": "stdout",
          "text": [
            "İki farklı sayının toplamının tek olma olasığı:  0.5714285714285714\n"
          ]
        }
      ]
    }
  ]
}