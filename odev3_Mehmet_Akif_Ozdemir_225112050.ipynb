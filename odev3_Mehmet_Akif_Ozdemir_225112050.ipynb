{
  "nbformat": 4,
  "nbformat_minor": 0,
  "metadata": {
    "colab": {
      "provenance": [],
      "authorship_tag": "ABX9TyMZyW2W+PAD8wBLCWLuC/Em",
      "include_colab_link": true
    },
    "kernelspec": {
      "name": "python3",
      "display_name": "Python 3"
    },
    "language_info": {
      "name": "python"
    }
  },
  "cells": [
    {
      "cell_type": "markdown",
      "metadata": {
        "id": "view-in-github",
        "colab_type": "text"
      },
      "source": [
        "<a href=\"https://colab.research.google.com/github/Lu-ari/AyrikSistemler/blob/main/odev3_Mehmet_Akif_Ozdemir_225112050.ipynb\" target=\"_parent\"><img src=\"https://colab.research.google.com/assets/colab-badge.svg\" alt=\"Open In Colab\"/></a>"
      ]
    },
    {
      "cell_type": "markdown",
      "source": [
        "**Soru 1 **\n",
        "\n",
        "Ali ile Velinin de aralarında bulunduğu 8 kişi arasından 3 kişi seçilecektir.\n",
        "Alinin seçilenler arasında olup Velinin ise olmama olasılığı nedir ?\n",
        "\n",
        "**Çözüm :**\n",
        "*Tüm durum için* : C(8,3)\n",
        "\n",
        "*İstenen durum*:Ali seçileceği için 2 kişi kalır.Ali olacağı ve Veli olmayacağı için kombinasyonumuz c(6,2)\n",
        "\n",
        "Bu durumda c(6,2) / c (8,3) olur.\n",
        "\n"
      ],
      "metadata": {
        "id": "k6YLCRstKX30"
      }
    },
    {
      "cell_type": "code",
      "source": [
        "import math\n",
        "\n",
        "# kombinasyon hesaplama fonksiyonu\n",
        "def C(n, r):\n",
        "  return math.factorial(n) // (math.factorial(r) * math.factorial(n-r))\n",
        "\n",
        "# Ali seçilenler arasında, Velinin seçilmemesi durumunun olasılığı\n",
        "P = C(6, 2) / C(8, 3)\n",
        "\n",
        "print(P)"
      ],
      "metadata": {
        "colab": {
          "base_uri": "https://localhost:8080/"
        },
        "id": "0Y4YD41FJqDg",
        "outputId": "962bf1ff-b695-4df7-827a-a5aec2049b8d"
      },
      "execution_count": null,
      "outputs": [
        {
          "output_type": "stream",
          "name": "stdout",
          "text": [
            "0.26785714285714285\n"
          ]
        }
      ]
    },
    {
      "cell_type": "markdown",
      "source": [
        "***Soru 2 ***\n",
        "\n",
        "Bir kutuda 15'i sağlam,5 'i bozuk 20 yumurta vardır.Omlet yapmak için alınan 4 yumurtadan hiçbirinin bozuk olmama olasılığı nedir ?\n",
        "\n",
        "**Çözüm:**\n",
        "\n",
        "*Tüm durum :* C (20,4)\n",
        "\n",
        "*İstenen durum :*  C(15,4) ---> Sağlamlardan 4 tanesi gelmeli\n",
        "                C(5,0)----> Bozuklardan 0 adet gelmeli\n",
        "\n",
        "*Bu durumda Olasılık =* (C(15,4) * C (5,0)) / C(20,4) 'tür.\n"
      ],
      "metadata": {
        "id": "4La8PJVMKgxD"
      }
    },
    {
      "cell_type": "code",
      "source": [
        "import math\n",
        "\n",
        "# kombinasyon hesaplama fonksiyonu\n",
        "def C(n, r):\n",
        "  return math.factorial(n) // (math.factorial(r) * math.factorial(n-r))\n",
        "\n",
        "\n",
        "P = (C(15, 4) * C(5, 0)) / C(20, 4)\n",
        "\n",
        "print(P)"
      ],
      "metadata": {
        "colab": {
          "base_uri": "https://localhost:8080/"
        },
        "id": "V2xBZdNbMNjI",
        "outputId": "7128d028-a975-4845-deec-42b53e3baa9e"
      },
      "execution_count": null,
      "outputs": [
        {
          "output_type": "stream",
          "name": "stdout",
          "text": [
            "0.28173374613003094\n"
          ]
        }
      ]
    }
  ]
}