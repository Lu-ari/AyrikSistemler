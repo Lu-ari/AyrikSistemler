{
  "nbformat": 4,
  "nbformat_minor": 0,
  "metadata": {
    "colab": {
      "provenance": [],
      "authorship_tag": "ABX9TyMi/E7xOf3bUq4RvsXDQGZn",
      "include_colab_link": true
    },
    "kernelspec": {
      "name": "python3",
      "display_name": "Python 3"
    },
    "language_info": {
      "name": "python"
    }
  },
  "cells": [
    {
      "cell_type": "markdown",
      "metadata": {
        "id": "view-in-github",
        "colab_type": "text"
      },
      "source": [
        "<a href=\"https://colab.research.google.com/github/Lu-ari/AyrikSistemler/blob/main/odev3_Mehmet_Akif_Ozdemir_225112050.ipynb\" target=\"_parent\"><img src=\"https://colab.research.google.com/assets/colab-badge.svg\" alt=\"Open In Colab\"/></a>"
      ]
    },
    {
      "cell_type": "markdown",
      "source": [
        "**Soru 1 **\n",
        "\n",
        "Bir sınıftaki öğrencilerin %40 'ı erkektir.Bu sınıftaki erkeklerin %30'u, kızların %20'si fizikten kalmıştır.Bu sınıftan seçilen bir öğrencinin fizikten kaldığı bilindiğine göre, bu öğrencinin erkek olma olasılığı kaçtır ? \n",
        "\n",
        "**Çözüm :**\n",
        "\n",
        "*%40 Erkek  *                                             \n",
        "%30  Fizikten kalmış               \n",
        "%70  Fizikten Geçmiş                               \n",
        "                                             \n",
        "\n",
        " *%60 Kız*\n",
        " %20 Fizikten kalmış                 \n",
        " %80 Fizikten Geçmiş\n",
        "       \n",
        "\n",
        "*Çözüm*= Fizikten Kalan Erkekler/ Fizikten Kalanlar\n",
        "\n",
        "  * Çözüm* =(0,4 * 0,3)/(0,4 * 0,3 + 0,6 * 0,2)"
      ],
      "metadata": {
        "id": "k6YLCRstKX30"
      }
    },
    {
      "cell_type": "code",
      "source": [
        "# Sınıftaki erkeklerin yüzdesi\n",
        "erkek_yuzdesi = 0.40\n",
        "\n",
        "# Erkeklerin içinde fizikten kalanların yüzdesi\n",
        "erkek_fizik_kalan_yuzdesi = 0.30\n",
        "\n",
        "# Kızların içinde fizikten kalanların yüzdesi\n",
        "kiz_fizik_kalan_yuzdesi = 0.20\n",
        "\n",
        "# Fizikten kalan bir öğrencinin erkek olma olasılığı\n",
        "# Bayes Teoremi kullanarak hesaplanır\n",
        "olasilik_erkek_fizik_kalan = (erkek_yuzdesi * erkek_fizik_kalan_yuzdesi) / ((erkek_yuzdesi * erkek_fizik_kalan_yuzdesi) + ((1 - erkek_yuzdesi) * kiz_fizik_kalan_yuzdesi))\n",
        "\n",
        "print(\"Bu öğrencinin erkek olma olasılığı: \", olasilik_erkek_fizik_kalan)"
      ],
      "metadata": {
        "colab": {
          "base_uri": "https://localhost:8080/"
        },
        "id": "0Y4YD41FJqDg",
        "outputId": "fa2f39fd-4b80-45c9-b212-2d81932a7315"
      },
      "execution_count": 3,
      "outputs": [
        {
          "output_type": "stream",
          "name": "stdout",
          "text": [
            "Bu öğrencinin erkek olma olasılığı:  0.5\n"
          ]
        }
      ]
    },
    {
      "cell_type": "markdown",
      "source": [
        "***Soru 2 ***\n",
        "\n",
        "52 kartlık standart bir desteden oluşan iskambil kağıtları arasından 1 kat seçiliyor.\n",
        "\n",
        "a)Seçilen kartın kupa olduğu biliniyorsa, bu kartın as olma olasılığı kaçtır ?\n",
        "\n",
        "b)Seçilen kartın vale olduğu biliniyorsa, bu kartın maça valesi olma olasılığını bulunuz.\n",
        "\n",
        "**Çözüm:**\n",
        "Karo -> 13 adet\n",
        "Kupa -> 13 adet\n",
        "Maça -> 13 adet\n",
        "Sinek-> 13 adet\n",
        "Her bir kart 1,2,3,...10,Vale,Kız,Papaz dan oluşur.\n",
        "\n",
        "a)\n",
        "As sayısı = 4 (her renkte 4 as bulunur)\n",
        "Olasılık = As sayısı / Kupa sayısı\n",
        "Olasılık = 4 / 13\n",
        "\n",
        "b)Seçilen kartın vale olduğu bilindiğine göre, bu kartın maça valesi olma olasılığını bulmak için aşağıdaki formülü kullanabiliriz:\n",
        "\n",
        "Toplam kart sayısı = 52 (standart iskambil destesinde 52 kart bulunur)\n",
        "Vale sayısı = 4 (her renkte 4 vale bulunur)\n",
        "Maça valesi sayısı = 1 (sadece maça renginde bir vale bulunur)\n",
        "\n",
        "Olasılık = Maça valesi sayısı / Vale sayısı\n",
        "Olasılık = 1 / 4\n",
        "\n"
      ],
      "metadata": {
        "id": "4La8PJVMKgxD"
      }
    },
    {
      "cell_type": "code",
      "source": [
        "# Seçilen kartın kupa olduğu bilindiğine göre, as olma olasılığı\n",
        "kupa_as_olasiligi = 4 / 13\n",
        "\n",
        "print(\"Seçilen kartın kupa olduğu bilindiğinde, bu kartın as olma olasılığı: \", kupa_as_olasiligi)"
      ],
      "metadata": {
        "colab": {
          "base_uri": "https://localhost:8080/"
        },
        "id": "V2xBZdNbMNjI",
        "outputId": "ba631a6a-4c8c-46fe-b73a-2605bc33233c"
      },
      "execution_count": 1,
      "outputs": [
        {
          "output_type": "stream",
          "name": "stdout",
          "text": [
            "Seçilen kartın kupa olduğu bilindiğinde, bu kartın as olma olasılığı:  0.3076923076923077\n"
          ]
        }
      ]
    },
    {
      "cell_type": "code",
      "source": [
        "# Seçilen kartın vale olduğu bilindiğinde, maça valesi olma olasılığı\n",
        "maca_valesi_olasiligi = 1 / 4\n",
        "\n",
        "print(\"Seçilen kartın vale olduğu bilindiğinde, bu kartın maça valesi olma olasılığı: \", maca_valesi_olasiligi)"
      ],
      "metadata": {
        "id": "Y7kvjwvfKBDN",
        "outputId": "c75e9cdd-8818-47dd-e22f-50254234016e",
        "colab": {
          "base_uri": "https://localhost:8080/"
        }
      },
      "execution_count": 4,
      "outputs": [
        {
          "output_type": "stream",
          "name": "stdout",
          "text": [
            "Seçilen kartın vale olduğu bilindiğinde, bu kartın maça valesi olma olasılığı:  0.25\n"
          ]
        }
      ]
    }
  ]
}