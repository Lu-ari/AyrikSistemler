{
  "nbformat": 4,
  "nbformat_minor": 0,
  "metadata": {
    "colab": {
      "provenance": [],
      "authorship_tag": "ABX9TyOjASKdF+nw349vYiWn/oCW",
      "include_colab_link": true
    },
    "kernelspec": {
      "name": "python3",
      "display_name": "Python 3"
    },
    "language_info": {
      "name": "python"
    }
  },
  "cells": [
    {
      "cell_type": "markdown",
      "metadata": {
        "id": "view-in-github",
        "colab_type": "text"
      },
      "source": [
        "<a href=\"https://colab.research.google.com/github/Lu-ari/AyrikSistemler/blob/main/odev3_Mehmet_Akif_Ozdemir_225112050.ipynb\" target=\"_parent\"><img src=\"https://colab.research.google.com/assets/colab-badge.svg\" alt=\"Open In Colab\"/></a>"
      ]
    },
    {
      "cell_type": "markdown",
      "source": [
        "**Soru 1 **\n",
        "\n",
        "Bir sınıftaki öğrencilerin %40 'ı erkektir.Bu sınıftaki erkeklerin %30'u, kızların %20'si fizikten kalmıştır.Bu sınıftan seçilen bir öğrencinin fizikten kaldığı bilindiğine göre, bu öğrencinin erkek olma olasılığı kaçtır ? \n",
        "\n",
        "**Çözüm :**\n",
        "\n",
        "*%40 Erkek  *                                             \n",
        "%30  Fizikten kalmış               \n",
        "%70  Fizikten Geçmiş                               \n",
        "                                             \n",
        "\n",
        " *%60 Kız*\n",
        " %20 Fizikten kalmış                 \n",
        " %80 Fizikten Geçmiş\n",
        "       \n",
        "\n",
        "*Çözüm*= Fizikten Kalan Erkekler/ Fizikten Kalanlar\n",
        "\n",
        "  * Çözüm* =(0,4 * 0,3)/(0,4 * 0,3 + 0,6 * 0,2)"
      ],
      "metadata": {
        "id": "k6YLCRstKX30"
      }
    },
    {
      "cell_type": "code",
      "source": [
        "# Sınıftaki erkeklerin yüzdesi\n",
        "erkek_yuzdesi = 0.40\n",
        "\n",
        "# Erkeklerin içinde fizikten kalanların yüzdesi\n",
        "erkek_fizik_kalan_yuzdesi = 0.30\n",
        "\n",
        "# Kızların içinde fizikten kalanların yüzdesi\n",
        "kiz_fizik_kalan_yuzdesi = 0.20\n",
        "\n",
        "# Fizikten kalan bir öğrencinin erkek olma olasılığı\n",
        "# Bayes Teoremi kullanarak hesaplanır\n",
        "olasilik_erkek_fizik_kalan = (erkek_yuzdesi * erkek_fizik_kalan_yuzdesi) / ((erkek_yuzdesi * erkek_fizik_kalan_yuzdesi) + ((1 - erkek_yuzdesi) * kiz_fizik_kalan_yuzdesi))\n",
        "\n",
        "print(\"Bu öğrencinin erkek olma olasılığı: \", olasilik_erkek_fizik_kalan)"
      ],
      "metadata": {
        "colab": {
          "base_uri": "https://localhost:8080/"
        },
        "id": "0Y4YD41FJqDg",
        "outputId": "fa2f39fd-4b80-45c9-b212-2d81932a7315"
      },
      "execution_count": null,
      "outputs": [
        {
          "output_type": "stream",
          "name": "stdout",
          "text": [
            "Bu öğrencinin erkek olma olasılığı:  0.5\n"
          ]
        }
      ]
    },
    {
      "cell_type": "markdown",
      "source": [
        "***Soru 2 ***\n",
        "\n",
        "Bir okulun öğrencilerinden %45’i fizik, %35’i matematik derslerinden ve %25’i hem fizik hem de matematik derslerinden başarısızdır. Rasgele seçilen bir öğrencinin,\n",
        "\n",
        "a) Fizikten başarısız olduğu biliniyorsa, matematikten de başarısız olma olasılığını bulunuz\n",
        "\n",
        "b)Matematikten başarısız olduğu biliniyor ise, fizikten de başarısız olma olasılığını bulunuz\n",
        "\n",
        "**Çözüm:**\n",
        "\n",
        "*a)* Fizikten başarısız olduğu biliniyorsa, matematikten de başarısız olma olasılığını bulmak için, verilen bilgilere göre fizik ve matematikten başarısız olan öğrencilerin oranlarını kullanabiliriz.\n",
        "\n",
        "%45 öğrenci fizikten başarısız olduğuna göre, fizikten başarılı olan öğrencilerin oranı %55'tir. (%100 - %45 = %55)\n",
        "\n",
        "%35 öğrenci matematikten başarısız olduğuna göre, matematikten başarılı olan öğrencilerin oranı %65'tir. (%100 - %35 = %65)\n",
        "\n",
        "%25 öğrenci hem fizik hem de matematikten başarısız olduğuna göre, bu kesim öğrencilerin, toplam başarısız öğrenciler içindeki oranıdır.\n",
        "\n",
        "Dolayısıyla, fizikten başarısız olan bir öğrencinin matematikten de başarısız olma olasılığı, başarısız olan öğrencilerin kesişen bölümünü (hem fizik hem de matematikten başarısız olan öğrenciler) toplam başarısız öğrenci bölümüne bölerek bulunabilir:\n",
        "\n",
        "%25 / %55 ≈ 0.45 veya %45\n",
        "\n",
        "Yani, bir öğrencinin fizikten başarısız olduğu bilindiğinde, matematikten de başarısız olma olasılığı yaklaşık olarak %45'tir.\n",
        "\n",
        "*b)* Matematikten başarısız olduğu biliniyorsa, fizikten de başarısız olma olasılığını bulmak için aynı mantığı kullanabiliriz.\n",
        "\n",
        "%35 öğrenci matematikten başarısız olduğuna göre, matematikten başarılı olan öğrencilerin oranı %65'tir. (%100 - %35 = %65)\n",
        "\n",
        "%25 öğrenci hem fizik hem de matematikten başarısız olduğuna göre, bu kesim öğrencilerin, toplam başarısız öğrenciler içindeki oranıdır.\n",
        "\n",
        "Dolayısıyla, matematikten başarısız olan bir öğrencinin fizikten de başarısız olma olasılığı, başarısız olan öğrencilerin kesişen bölümünü (hem fizik hem de matematikten başarısız olan öğrenciler) toplam başarısız öğrenci bölümüne bölerek bulunabilir:\n",
        "\n",
        "%25 / %65 ≈ 0.385 veya %38.5\n",
        "\n",
        "Yani, bir öğrencinin matematikten başarısız olduğu bilindiğinde, fizikten de başarısız olma olasılığı yaklaşık olarak %38.5'tir.\n",
        "\n"
      ],
      "metadata": {
        "id": "4La8PJVMKgxD"
      }
    },
    {
      "cell_type": "code",
      "source": [
        "# Verilen oranlar\n",
        "fizik_basarisiz_oran = 0.45\n",
        "matematik_basarisiz_oran = 0.35\n",
        "hem_fizik_matematik_basarisiz_oran = 0.25\n",
        "\n",
        "# a) Fizikten başarısız olduğu biliniyorsa, matematikten de başarısız olma olasılığı\n",
        "matematik_basarisiz_sonuc = hem_fizik_matematik_basarisiz_oran / fizik_basarisiz_oran\n",
        "print(\"a) Fizikten başarısız olduğu biliniyorsa, matematikten de başarısız olma olasılığı: {:.2%}\".format(matematik_basarisiz_sonuc))\n",
        "\n",
        "# b) Matematikten başarısız olduğu biliniyorsa, fizikten de başarısız olma olasılığı\n",
        "fizik_basarisiz_sonuc = hem_fizik_matematik_basarisiz_oran / matematik_basarisiz_oran\n",
        "print(\"b) Matematikten başarısız olduğu biliniyorsa, fizikten de başarısız olma olasılığı: {:.2%}\".format(fizik_basarisiz_sonuc))"
      ],
      "metadata": {
        "colab": {
          "base_uri": "https://localhost:8080/"
        },
        "id": "V2xBZdNbMNjI",
        "outputId": "ba631a6a-4c8c-46fe-b73a-2605bc33233c"
      },
      "execution_count": null,
      "outputs": [
        {
          "output_type": "stream",
          "name": "stdout",
          "text": [
            "Seçilen kartın kupa olduğu bilindiğinde, bu kartın as olma olasılığı:  0.3076923076923077\n"
          ]
        }
      ]
    }
  ]
}