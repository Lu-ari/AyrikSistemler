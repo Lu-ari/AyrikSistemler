{
  "nbformat": 4,
  "nbformat_minor": 0,
  "metadata": {
    "colab": {
      "provenance": [],
      "authorship_tag": "ABX9TyMVHH6F47MysGMmxTJfCQSI",
      "include_colab_link": true
    },
    "kernelspec": {
      "name": "python3",
      "display_name": "Python 3"
    },
    "language_info": {
      "name": "python"
    }
  },
  "cells": [
    {
      "cell_type": "markdown",
      "metadata": {
        "id": "view-in-github",
        "colab_type": "text"
      },
      "source": [
        "<a href=\"https://colab.research.google.com/github/Lu-ari/AyrikSistemler/blob/main/odev3_Mehmet_Akif_Ozdemir_225112050.ipynb\" target=\"_parent\"><img src=\"https://colab.research.google.com/assets/colab-badge.svg\" alt=\"Open In Colab\"/></a>"
      ]
    },
    {
      "cell_type": "markdown",
      "source": [
        "**Soru 1 **\n",
        "\n",
        "Bir sınıftaki öğrencilerin %40 'ı erkektir.Bu sınıftaki erkeklerin %30'u, kızların %20'si fizikten kalmıştır.Bu sınıftan seçilen bir öğrencinin fizikten kaldığı bilindiğine göre, bu öğrencinin erkek olma olasılığı kaçtır ? \n",
        "\n",
        "**Çözüm :**\n",
        "\n",
        "*%40 Erkek  *                                             \n",
        "%30  Fizikten kalmış               \n",
        "%70  Fizikten Geçmiş                               \n",
        "                                             \n",
        "\n",
        " *%60 Kız*\n",
        " %20 Fizikten kalmış                 \n",
        " %80 Fizikten Geçmiş\n",
        "       \n",
        "\n",
        "*Çözüm*= Fizikten Kalan Erkekler/ Fizikten Kalanlar\n",
        "\n",
        "  * Çözüm* =(0,4 * 0,3)/(0,4 * 0,3 + 0,6 * 0,2)"
      ],
      "metadata": {
        "id": "k6YLCRstKX30"
      }
    },
    {
      "cell_type": "code",
      "source": [
        "# Sınıftaki erkeklerin yüzdesi\n",
        "erkek_yuzdesi = 0.40\n",
        "\n",
        "# Erkeklerin içinde fizikten kalanların yüzdesi\n",
        "erkek_fizik_kalan_yuzdesi = 0.30\n",
        "\n",
        "# Kızların içinde fizikten kalanların yüzdesi\n",
        "kiz_fizik_kalan_yuzdesi = 0.20\n",
        "\n",
        "# Fizikten kalan bir öğrencinin erkek olma olasılığı\n",
        "# Bayes Teoremi kullanarak hesaplanır\n",
        "olasilik_erkek_fizik_kalan = (erkek_yuzdesi * erkek_fizik_kalan_yuzdesi) / ((erkek_yuzdesi * erkek_fizik_kalan_yuzdesi) + ((1 - erkek_yuzdesi) * kiz_fizik_kalan_yuzdesi))\n",
        "\n",
        "print(\"Bu öğrencinin erkek olma olasılığı: \", olasilik_erkek_fizik_kalan)"
      ],
      "metadata": {
        "colab": {
          "base_uri": "https://localhost:8080/"
        },
        "id": "0Y4YD41FJqDg",
        "outputId": "fa2f39fd-4b80-45c9-b212-2d81932a7315"
      },
      "execution_count": null,
      "outputs": [
        {
          "output_type": "stream",
          "name": "stdout",
          "text": [
            "Bu öğrencinin erkek olma olasılığı:  0.5\n"
          ]
        }
      ]
    },
    {
      "cell_type": "markdown",
      "source": [
        "***Soru 2 ***\n",
        "\n",
        "100 kişilik bir grupta konut kredisi borcu olanlar 65 kişi, taşıt kredisi borcu olanlar 75 kişidir.Ne taşıt nede konut kredisi borcu olmayanlar ise 12 kişidir.\n",
        "Bu gruptan rastgele seçilen bir kişinin taşıt kredisi borcu olduğu bilindiğine göre, konut için de borçlu olma olasılığı kaçtır ?\n",
        "\n",
        "**Çözüm:**\n",
        "\n",
        "İlk olarak, 100 kişilik gruptan taşıt kredisi borcu olanların sayısı 75 olduğu için, taşıt kredisi borcu olmayanların sayısı 100-75=25'tir.\n",
        "\n",
        "Aynı şekilde, konut kredisi borcu olanların sayısı 65 olduğu için, konut kredisi borcu olmayanların sayısı 100-65=35'tir.\n",
        "\n",
        "Taşıt kredisi borcu olanların sayısı 75 olduğu için, toplam seçenek sayısı 75'dir. Bizim bilmemiz gereken, seçilen kişinin taşıt kredisi borcu olduğu, yani 75 kişiden biri olduğudur.\n",
        "\n",
        "Bizim hesaplamamız gereken, seçilen kişinin taşıt kredisi borçlu olduğu durumda aynı zamanda konut kredisi borcu olma olasılığıdır. Yani, P(konut kredisi borcu | taşıt kredisi borcu) nedir?\n",
        "\n",
        "Bayes Teoremi'ni kullanarak şöyle yazabiliriz:\n",
        "\n",
        "P(konut kredisi borcu | taşıt kredisi borcu) = P(taşıt kredisi borcu | konut kredisi borcu) * P(konut kredisi borcu) / P(taşıt kredisi borcu)\n",
        "\n",
        "Burada:\n",
        "\n",
        "P(taşıt kredisi borcu | konut kredisi borcu) taşıt kredisi borcu olanların içinde konut kredisi borcu olanların oranıdır. Bu oran, verilen bilgileri kullanarak 65/100 = 0.65'tir.\n",
        "P(konut kredisi borcu) konut kredisi borcu olanların oranıdır. Bu oran, verilen bilgileri kullanarak 65/100 = 0.65'tir.\n",
        "P(taşıt kredisi borcu) herhangi bir bilgi verilmeden taşıt kredisi borcu olanların oranıdır. Bu oran, verilen bilgileri kullanarak 75/100 = 0.75'tir.\n",
        "Bunları yerlerine koyarak:\n",
        "\n",
        "P(konut kredisi borcu | taşıt kredisi borcu) = 0.65 * 0.65 / 0.75 = 0.565\n",
        "\n",
        "Yani, seçilen kişinin taşıt kredisi borçlu olduğu bilindiğinde, aynı zamanda konut kredisi borcu olma olasılığı yaklaşık %56.5'tir.\n",
        "\n"
      ],
      "metadata": {
        "id": "4La8PJVMKgxD"
      }
    },
    {
      "cell_type": "code",
      "source": [
        "# Verilen sayıları girdi olarak tanımlayalım\n",
        "toplam_kisi = 100\n",
        "konut_borclu_sayisi = 65\n",
        "tasit_borclu_sayisi = 75\n",
        "hem_konut_hem_tasit_borcu_olmayan_sayisi = 12\n",
        "\n",
        "# Taşıt kredisi borcu olan bir kişi seçildiğinde, geriye kalan taşıt borçlu sayısı\n",
        "geriye_kalan_tasit_borclu_sayisi = tasit_borclu_sayisi - 1\n",
        "\n",
        "# Konut kredisi borcu olanların sayısını bulalım\n",
        "konut_borclu_sayisi = konut_borclu_sayisi - (tasit_borclu_sayisi - geriye_kalan_tasit_borclu_sayisi)\n",
        "\n",
        "# Konut için borçlu olma olasılığını hesaplayalım\n",
        "konut_borclu_olma_olasiligi = konut_borclu_sayisi / (toplam_kisi - 1)\n",
        "\n",
        "print(\"Konut için borçlu olma olasılığı: {:.4f}\".format(konut_borclu_olma_olasiligi))"
      ],
      "metadata": {
        "colab": {
          "base_uri": "https://localhost:8080/"
        },
        "id": "V2xBZdNbMNjI",
        "outputId": "0180e339-771d-4917-ed8c-681e72ae5e10"
      },
      "execution_count": 1,
      "outputs": [
        {
          "output_type": "stream",
          "name": "stdout",
          "text": [
            "Konut için borçlu olma olasılığı: 0.6465\n"
          ]
        }
      ]
    }
  ]
}